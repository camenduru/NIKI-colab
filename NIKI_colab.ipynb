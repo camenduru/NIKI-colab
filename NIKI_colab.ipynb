{
  "cells": [
    {
      "cell_type": "markdown",
      "metadata": {
        "id": "view-in-github"
      },
      "source": [
        "[![Open In Colab](https://colab.research.google.com/assets/colab-badge.svg)](https://colab.research.google.com/github/camenduru/NIKI-colab/blob/main/NIKI_colab.ipynb)"
      ]
    },
    {
      "cell_type": "code",
      "execution_count": null,
      "metadata": {
        "id": "VjYy0F2gZIPR"
      },
      "outputs": [],
      "source": [
        "%cd /content\n",
        "!git clone -b dev https://github.com/camenduru/NIKI\n",
        "%cd /content/NIKI\n",
        "\n",
        "!pip install https://github.com/camenduru/wheels/releases/download/colab/pytorch3d-0.7.5-cp310-cp310-linux_x86_64.whl\n",
        "!pip install terminaltables\n",
        "!apt -y install -qq aria2\n",
        "!aria2c --console-log-level=error -c -x 16 -s 16 -k 1M https://huggingface.co/camenduru/NIKI/resolve/main/niki_model_28.pth -d /content/NIKI/exp -o niki_model_28.pth\n",
        "!aria2c --console-log-level=error -c -x 16 -s 16 -k 1M https://huggingface.co/camenduru/NIKI/resolve/main/checkpoint_49_cocoeft.pth -d /content/NIKI/exp -o checkpoint_49_cocoeft.pth\n",
        "!aria2c --console-log-level=error -c -x 16 -s 16 -k 1M https://huggingface.co/camenduru/NIKI/resolve/main/dance.mp4 -d /content/video -o dance.mp4\n",
        "!aria2c --console-log-level=error -c -x 16 -s 16 -k 1M https://huggingface.co/camenduru/NIKI/resolve/main/basicModel_neutral_lbs_10_207_0_v1.0.0.pkl -d /content/NIKI/model_files -o basicModel_neutral_lbs_10_207_0_v1.0.0.pkl\n",
        "\n",
        "%cd /content/NIKI\n",
        "!pip install .\n",
        "!cp /content/NIKI/scripts/demo.py /content/NIKI/demo.py"
      ]
    },
    {
      "cell_type": "code",
      "execution_count": null,
      "metadata": {},
      "outputs": [],
      "source": [
        "%cd /content/NIKI\n",
        "!python demo.py --video-name /content/video/dance.mp4 --out-dir /content/output --gpu 0"
      ]
    },
    {
      "cell_type": "code",
      "execution_count": null,
      "metadata": {},
      "outputs": [],
      "source": [
        "from IPython.display import HTML\n",
        "from base64 import b64encode\n",
        "\n",
        "def video(path):\n",
        "  mp4 = open(path,'rb').read()\n",
        "  data_url = \"data:video/mp4;base64,\" + b64encode(mp4).decode()\n",
        "  return HTML('<video height=400 controls loop> <source src=\"%s\" type=\"video/mp4\"></video>' % data_url)\n",
        "\n",
        "video('/content/output/res_dance.mp4')"
      ]
    }
  ],
  "metadata": {
    "accelerator": "GPU",
    "colab": {
      "gpuType": "T4",
      "provenance": []
    },
    "kernelspec": {
      "display_name": "Python 3",
      "name": "python3"
    },
    "language_info": {
      "name": "python"
    }
  },
  "nbformat": 4,
  "nbformat_minor": 0
}
